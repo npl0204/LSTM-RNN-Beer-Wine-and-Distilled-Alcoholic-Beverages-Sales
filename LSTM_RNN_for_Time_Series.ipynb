{
  "nbformat": 4,
  "nbformat_minor": 0,
  "metadata": {
    "colab": {
      "provenance": [],
      "collapsed_sections": [
        "yaO10oxNqF65",
        "kQIRjnfuIfeq",
        "x_t9H2B_yRcR",
        "kniAgQsL3Alt",
        "zen0YYnyuoOY",
        "JU8ZfS6QBndr",
        "PfRMRsUxBFjE",
        "JITcC8NQuvBX",
        "wJJC8EaYFGsl"
      ],
      "authorship_tag": "ABX9TyMEvyIBfX2gvMVAIoqHYhjp",
      "include_colab_link": true
    },
    "kernelspec": {
      "name": "python3",
      "display_name": "Python 3"
    },
    "language_info": {
      "name": "python"
    },
    "accelerator": "GPU",
    "gpuClass": "standard"
  },
  "cells": [
    {
      "cell_type": "markdown",
      "metadata": {
        "id": "view-in-github",
        "colab_type": "text"
      },
      "source": [
        "<a href=\"https://colab.research.google.com/github/npl0204/LSTM-RNN-Beer-Wine-and-Distilled-Alcoholic-Beverages-Sales/blob/main/LSTM_RNN_for_Time_Series.ipynb\" target=\"_parent\"><img src=\"https://colab.research.google.com/assets/colab-badge.svg\" alt=\"Open In Colab\"/></a>"
      ]
    },
    {
      "cell_type": "markdown",
      "source": [
        "## LSTM\n",
        "---"
      ],
      "metadata": {
        "id": "yaO10oxNqF65"
      }
    },
    {
      "cell_type": "markdown",
      "source": [
        "**LSTM** is a variant of RNN used in deep learning, can be used LSTMs when working on sequences of data.\n",
        "* Time series forecasting (for example, stock prediction)\n",
        "* Text generation\n",
        "* Video classification\n",
        "* Music generation\n",
        "* Anomaly detection"
      ],
      "metadata": {
        "id": "9YGWCrl5qK5Z"
      }
    },
    {
      "cell_type": "markdown",
      "source": [
        "**RNNs** are neural networks that are good with sequential data. It can be video, audio, text, stock market time series or even a single image cut into a sequence of its parts.\n",
        "\n",
        "*Compare:* Standard neural networks (convolutional or vanilla) have one major shortcoming when compared to RNNs - they cannot reason about previous inputs to inform later ones."
      ],
      "metadata": {
        "id": "dmIgNjqHqaGU"
      }
    },
    {
      "cell_type": "markdown",
      "source": [
        "**LSTM vs RNN**\n",
        "* Typical RNNs can't memorize long sequences. The effect called “vanishing gradients” happens during the backpropagation phase of the RNN cell network. The gradients of cells that carry information from the start of a sequence goes through matrix multiplications by small numbers and reach close to 0 in long sequences. In other words - information at the start of the sequence has almost no effect at the end of the sequence.\n",
        "* LSTM is an RNN architecture that can memorize long sequences - up to 100s of elements in a sequence. LSTM has a memory gating mechanism that allows the long term memory to continue flowing into the LSTM cells."
      ],
      "metadata": {
        "id": "9wnupMzbxR33"
      }
    },
    {
      "cell_type": "markdown",
      "source": [
        "## Import Package and Load Dataset\n",
        "---"
      ],
      "metadata": {
        "id": "SpH8RxaChGO6"
      }
    },
    {
      "cell_type": "markdown",
      "source": [
        "Data source: https://fred.stlouisfed.org/series/S4248SM144NCEN"
      ],
      "metadata": {
        "id": "1Y88-hXnogjD"
      }
    },
    {
      "cell_type": "code",
      "execution_count": 23,
      "metadata": {
        "id": "ygRB4sEXIB6w"
      },
      "outputs": [],
      "source": [
        "import torch\n",
        "import torch.nn as nn\n",
        "\n",
        "import numpy as np\n",
        "import pandas as pd\n",
        "import matplotlib.pyplot as plt\n",
        "%matplotlib inline\n",
        "\n",
        "import random "
      ]
    },
    {
      "cell_type": "markdown",
      "source": [
        "This relates to plotting datetime values with matplotlib"
      ],
      "metadata": {
        "id": "R3ik1pLtojvZ"
      }
    },
    {
      "cell_type": "code",
      "source": [
        "from pandas.plotting import register_matplotlib_converters\n",
        "register_matplotlib_converters()"
      ],
      "metadata": {
        "id": "5J1I6s09hPk_"
      },
      "execution_count": 24,
      "outputs": []
    },
    {
      "cell_type": "code",
      "source": [
        "from google.colab import drive\n",
        "drive.mount('/content/drive')\n",
        "df = pd.read_csv(\"/content/drive/MyDrive/Logistic Regression/Alcohol_Sales.csv\", index_col=0, parse_dates=True)"
      ],
      "metadata": {
        "colab": {
          "base_uri": "https://localhost:8080/"
        },
        "id": "QkOI2aPlokXa",
        "outputId": "b19dbb36-294c-48fc-f335-061be93464fc"
      },
      "execution_count": 25,
      "outputs": [
        {
          "output_type": "stream",
          "name": "stdout",
          "text": [
            "Drive already mounted at /content/drive; to attempt to forcibly remount, call drive.mount(\"/content/drive\", force_remount=True).\n"
          ]
        }
      ]
    },
    {
      "cell_type": "markdown",
      "source": [
        "For Time Series data -> better to remove N/A"
      ],
      "metadata": {
        "id": "4_oepd6so5HB"
      }
    },
    {
      "cell_type": "code",
      "source": [
        "df.dropna(inplace=True)\n",
        "len(df)"
      ],
      "metadata": {
        "colab": {
          "base_uri": "https://localhost:8080/"
        },
        "id": "D_dJzphwoxDY",
        "outputId": "6132b769-5499-4fa8-d523-4a8f593e7bad"
      },
      "execution_count": 26,
      "outputs": [
        {
          "output_type": "execute_result",
          "data": {
            "text/plain": [
              "367"
            ]
          },
          "metadata": {},
          "execution_count": 26
        }
      ]
    },
    {
      "cell_type": "code",
      "source": [
        "df.head()"
      ],
      "metadata": {
        "colab": {
          "base_uri": "https://localhost:8080/",
          "height": 238
        },
        "id": "vkd3peDdpDtD",
        "outputId": "c2746bc3-66f2-4ed4-b8e0-d30a8b1a4a38"
      },
      "execution_count": 27,
      "outputs": [
        {
          "output_type": "execute_result",
          "data": {
            "text/plain": [
              "            S4248SM144NCEN\n",
              "DATE                      \n",
              "1992-01-01            3459\n",
              "1992-02-01            3458\n",
              "1992-03-01            4002\n",
              "1992-04-01            4564\n",
              "1992-05-01            4221"
            ],
            "text/html": [
              "\n",
              "  <div id=\"df-d251801b-c40f-4d16-8bb7-e42297a64392\">\n",
              "    <div class=\"colab-df-container\">\n",
              "      <div>\n",
              "<style scoped>\n",
              "    .dataframe tbody tr th:only-of-type {\n",
              "        vertical-align: middle;\n",
              "    }\n",
              "\n",
              "    .dataframe tbody tr th {\n",
              "        vertical-align: top;\n",
              "    }\n",
              "\n",
              "    .dataframe thead th {\n",
              "        text-align: right;\n",
              "    }\n",
              "</style>\n",
              "<table border=\"1\" class=\"dataframe\">\n",
              "  <thead>\n",
              "    <tr style=\"text-align: right;\">\n",
              "      <th></th>\n",
              "      <th>S4248SM144NCEN</th>\n",
              "    </tr>\n",
              "    <tr>\n",
              "      <th>DATE</th>\n",
              "      <th></th>\n",
              "    </tr>\n",
              "  </thead>\n",
              "  <tbody>\n",
              "    <tr>\n",
              "      <th>1992-01-01</th>\n",
              "      <td>3459</td>\n",
              "    </tr>\n",
              "    <tr>\n",
              "      <th>1992-02-01</th>\n",
              "      <td>3458</td>\n",
              "    </tr>\n",
              "    <tr>\n",
              "      <th>1992-03-01</th>\n",
              "      <td>4002</td>\n",
              "    </tr>\n",
              "    <tr>\n",
              "      <th>1992-04-01</th>\n",
              "      <td>4564</td>\n",
              "    </tr>\n",
              "    <tr>\n",
              "      <th>1992-05-01</th>\n",
              "      <td>4221</td>\n",
              "    </tr>\n",
              "  </tbody>\n",
              "</table>\n",
              "</div>\n",
              "      <button class=\"colab-df-convert\" onclick=\"convertToInteractive('df-d251801b-c40f-4d16-8bb7-e42297a64392')\"\n",
              "              title=\"Convert this dataframe to an interactive table.\"\n",
              "              style=\"display:none;\">\n",
              "        \n",
              "  <svg xmlns=\"http://www.w3.org/2000/svg\" height=\"24px\"viewBox=\"0 0 24 24\"\n",
              "       width=\"24px\">\n",
              "    <path d=\"M0 0h24v24H0V0z\" fill=\"none\"/>\n",
              "    <path d=\"M18.56 5.44l.94 2.06.94-2.06 2.06-.94-2.06-.94-.94-2.06-.94 2.06-2.06.94zm-11 1L8.5 8.5l.94-2.06 2.06-.94-2.06-.94L8.5 2.5l-.94 2.06-2.06.94zm10 10l.94 2.06.94-2.06 2.06-.94-2.06-.94-.94-2.06-.94 2.06-2.06.94z\"/><path d=\"M17.41 7.96l-1.37-1.37c-.4-.4-.92-.59-1.43-.59-.52 0-1.04.2-1.43.59L10.3 9.45l-7.72 7.72c-.78.78-.78 2.05 0 2.83L4 21.41c.39.39.9.59 1.41.59.51 0 1.02-.2 1.41-.59l7.78-7.78 2.81-2.81c.8-.78.8-2.07 0-2.86zM5.41 20L4 18.59l7.72-7.72 1.47 1.35L5.41 20z\"/>\n",
              "  </svg>\n",
              "      </button>\n",
              "      \n",
              "  <style>\n",
              "    .colab-df-container {\n",
              "      display:flex;\n",
              "      flex-wrap:wrap;\n",
              "      gap: 12px;\n",
              "    }\n",
              "\n",
              "    .colab-df-convert {\n",
              "      background-color: #E8F0FE;\n",
              "      border: none;\n",
              "      border-radius: 50%;\n",
              "      cursor: pointer;\n",
              "      display: none;\n",
              "      fill: #1967D2;\n",
              "      height: 32px;\n",
              "      padding: 0 0 0 0;\n",
              "      width: 32px;\n",
              "    }\n",
              "\n",
              "    .colab-df-convert:hover {\n",
              "      background-color: #E2EBFA;\n",
              "      box-shadow: 0px 1px 2px rgba(60, 64, 67, 0.3), 0px 1px 3px 1px rgba(60, 64, 67, 0.15);\n",
              "      fill: #174EA6;\n",
              "    }\n",
              "\n",
              "    [theme=dark] .colab-df-convert {\n",
              "      background-color: #3B4455;\n",
              "      fill: #D2E3FC;\n",
              "    }\n",
              "\n",
              "    [theme=dark] .colab-df-convert:hover {\n",
              "      background-color: #434B5C;\n",
              "      box-shadow: 0px 1px 3px 1px rgba(0, 0, 0, 0.15);\n",
              "      filter: drop-shadow(0px 1px 2px rgba(0, 0, 0, 0.3));\n",
              "      fill: #FFFFFF;\n",
              "    }\n",
              "  </style>\n",
              "\n",
              "      <script>\n",
              "        const buttonEl =\n",
              "          document.querySelector('#df-d251801b-c40f-4d16-8bb7-e42297a64392 button.colab-df-convert');\n",
              "        buttonEl.style.display =\n",
              "          google.colab.kernel.accessAllowed ? 'block' : 'none';\n",
              "\n",
              "        async function convertToInteractive(key) {\n",
              "          const element = document.querySelector('#df-d251801b-c40f-4d16-8bb7-e42297a64392');\n",
              "          const dataTable =\n",
              "            await google.colab.kernel.invokeFunction('convertToInteractive',\n",
              "                                                     [key], {});\n",
              "          if (!dataTable) return;\n",
              "\n",
              "          const docLinkHtml = 'Like what you see? Visit the ' +\n",
              "            '<a target=\"_blank\" href=https://colab.research.google.com/notebooks/data_table.ipynb>data table notebook</a>'\n",
              "            + ' to learn more about interactive tables.';\n",
              "          element.innerHTML = '';\n",
              "          dataTable['output_type'] = 'display_data';\n",
              "          await google.colab.output.renderOutput(dataTable, element);\n",
              "          const docLink = document.createElement('div');\n",
              "          docLink.innerHTML = docLinkHtml;\n",
              "          element.appendChild(docLink);\n",
              "        }\n",
              "      </script>\n",
              "    </div>\n",
              "  </div>\n",
              "  "
            ]
          },
          "metadata": {},
          "execution_count": 27
        }
      ]
    },
    {
      "cell_type": "code",
      "source": [
        "df.tail()"
      ],
      "metadata": {
        "colab": {
          "base_uri": "https://localhost:8080/",
          "height": 238
        },
        "id": "3pHRLWympF06",
        "outputId": "a1397bfa-3aad-4478-be62-d58c9989a51a"
      },
      "execution_count": 28,
      "outputs": [
        {
          "output_type": "execute_result",
          "data": {
            "text/plain": [
              "            S4248SM144NCEN\n",
              "DATE                      \n",
              "2022-03-01           16165\n",
              "2022-04-01           15584\n",
              "2022-05-01           16600\n",
              "2022-06-01           17700\n",
              "2022-07-01           15112"
            ],
            "text/html": [
              "\n",
              "  <div id=\"df-5f0cd428-42ff-4712-a2d8-1cc67adad788\">\n",
              "    <div class=\"colab-df-container\">\n",
              "      <div>\n",
              "<style scoped>\n",
              "    .dataframe tbody tr th:only-of-type {\n",
              "        vertical-align: middle;\n",
              "    }\n",
              "\n",
              "    .dataframe tbody tr th {\n",
              "        vertical-align: top;\n",
              "    }\n",
              "\n",
              "    .dataframe thead th {\n",
              "        text-align: right;\n",
              "    }\n",
              "</style>\n",
              "<table border=\"1\" class=\"dataframe\">\n",
              "  <thead>\n",
              "    <tr style=\"text-align: right;\">\n",
              "      <th></th>\n",
              "      <th>S4248SM144NCEN</th>\n",
              "    </tr>\n",
              "    <tr>\n",
              "      <th>DATE</th>\n",
              "      <th></th>\n",
              "    </tr>\n",
              "  </thead>\n",
              "  <tbody>\n",
              "    <tr>\n",
              "      <th>2022-03-01</th>\n",
              "      <td>16165</td>\n",
              "    </tr>\n",
              "    <tr>\n",
              "      <th>2022-04-01</th>\n",
              "      <td>15584</td>\n",
              "    </tr>\n",
              "    <tr>\n",
              "      <th>2022-05-01</th>\n",
              "      <td>16600</td>\n",
              "    </tr>\n",
              "    <tr>\n",
              "      <th>2022-06-01</th>\n",
              "      <td>17700</td>\n",
              "    </tr>\n",
              "    <tr>\n",
              "      <th>2022-07-01</th>\n",
              "      <td>15112</td>\n",
              "    </tr>\n",
              "  </tbody>\n",
              "</table>\n",
              "</div>\n",
              "      <button class=\"colab-df-convert\" onclick=\"convertToInteractive('df-5f0cd428-42ff-4712-a2d8-1cc67adad788')\"\n",
              "              title=\"Convert this dataframe to an interactive table.\"\n",
              "              style=\"display:none;\">\n",
              "        \n",
              "  <svg xmlns=\"http://www.w3.org/2000/svg\" height=\"24px\"viewBox=\"0 0 24 24\"\n",
              "       width=\"24px\">\n",
              "    <path d=\"M0 0h24v24H0V0z\" fill=\"none\"/>\n",
              "    <path d=\"M18.56 5.44l.94 2.06.94-2.06 2.06-.94-2.06-.94-.94-2.06-.94 2.06-2.06.94zm-11 1L8.5 8.5l.94-2.06 2.06-.94-2.06-.94L8.5 2.5l-.94 2.06-2.06.94zm10 10l.94 2.06.94-2.06 2.06-.94-2.06-.94-.94-2.06-.94 2.06-2.06.94z\"/><path d=\"M17.41 7.96l-1.37-1.37c-.4-.4-.92-.59-1.43-.59-.52 0-1.04.2-1.43.59L10.3 9.45l-7.72 7.72c-.78.78-.78 2.05 0 2.83L4 21.41c.39.39.9.59 1.41.59.51 0 1.02-.2 1.41-.59l7.78-7.78 2.81-2.81c.8-.78.8-2.07 0-2.86zM5.41 20L4 18.59l7.72-7.72 1.47 1.35L5.41 20z\"/>\n",
              "  </svg>\n",
              "      </button>\n",
              "      \n",
              "  <style>\n",
              "    .colab-df-container {\n",
              "      display:flex;\n",
              "      flex-wrap:wrap;\n",
              "      gap: 12px;\n",
              "    }\n",
              "\n",
              "    .colab-df-convert {\n",
              "      background-color: #E8F0FE;\n",
              "      border: none;\n",
              "      border-radius: 50%;\n",
              "      cursor: pointer;\n",
              "      display: none;\n",
              "      fill: #1967D2;\n",
              "      height: 32px;\n",
              "      padding: 0 0 0 0;\n",
              "      width: 32px;\n",
              "    }\n",
              "\n",
              "    .colab-df-convert:hover {\n",
              "      background-color: #E2EBFA;\n",
              "      box-shadow: 0px 1px 2px rgba(60, 64, 67, 0.3), 0px 1px 3px 1px rgba(60, 64, 67, 0.15);\n",
              "      fill: #174EA6;\n",
              "    }\n",
              "\n",
              "    [theme=dark] .colab-df-convert {\n",
              "      background-color: #3B4455;\n",
              "      fill: #D2E3FC;\n",
              "    }\n",
              "\n",
              "    [theme=dark] .colab-df-convert:hover {\n",
              "      background-color: #434B5C;\n",
              "      box-shadow: 0px 1px 3px 1px rgba(0, 0, 0, 0.15);\n",
              "      filter: drop-shadow(0px 1px 2px rgba(0, 0, 0, 0.3));\n",
              "      fill: #FFFFFF;\n",
              "    }\n",
              "  </style>\n",
              "\n",
              "      <script>\n",
              "        const buttonEl =\n",
              "          document.querySelector('#df-5f0cd428-42ff-4712-a2d8-1cc67adad788 button.colab-df-convert');\n",
              "        buttonEl.style.display =\n",
              "          google.colab.kernel.accessAllowed ? 'block' : 'none';\n",
              "\n",
              "        async function convertToInteractive(key) {\n",
              "          const element = document.querySelector('#df-5f0cd428-42ff-4712-a2d8-1cc67adad788');\n",
              "          const dataTable =\n",
              "            await google.colab.kernel.invokeFunction('convertToInteractive',\n",
              "                                                     [key], {});\n",
              "          if (!dataTable) return;\n",
              "\n",
              "          const docLinkHtml = 'Like what you see? Visit the ' +\n",
              "            '<a target=\"_blank\" href=https://colab.research.google.com/notebooks/data_table.ipynb>data table notebook</a>'\n",
              "            + ' to learn more about interactive tables.';\n",
              "          element.innerHTML = '';\n",
              "          dataTable['output_type'] = 'display_data';\n",
              "          await google.colab.output.renderOutput(dataTable, element);\n",
              "          const docLink = document.createElement('div');\n",
              "          docLink.innerHTML = docLinkHtml;\n",
              "          element.appendChild(docLink);\n",
              "        }\n",
              "      </script>\n",
              "    </div>\n",
              "  </div>\n",
              "  "
            ]
          },
          "metadata": {},
          "execution_count": 28
        }
      ]
    },
    {
      "cell_type": "markdown",
      "source": [
        "## Plotting Time Series\n",
        "---"
      ],
      "metadata": {
        "id": "4pXI5Wj-qsxX"
      }
    },
    {
      "cell_type": "markdown",
      "source": [
        "Tighten the x-axis to fit the width of the actual data with plt.autoscale(axis='x',tight=True)."
      ],
      "metadata": {
        "id": "ZOgB3yhRrZ4t"
      }
    },
    {
      "cell_type": "code",
      "source": [
        "plt.figure(figsize=(12,4))\n",
        "plt.title('Beer, Wine, and Alcohol Sales')\n",
        "plt.ylabel('Sales (millions of dollars)')\n",
        "plt.grid(True)\n",
        "plt.autoscale(axis='x',tight=True)\n",
        "plt.plot(df['S4248SM144NCEN'])\n",
        "plt.show()"
      ],
      "metadata": {
        "colab": {
          "base_uri": "https://localhost:8080/",
          "height": 281
        },
        "id": "pbXPF_iupMHQ",
        "outputId": "6d2ef049-9327-47ce-c58e-6f43943d4240"
      },
      "execution_count": 29,
      "outputs": [
        {
          "output_type": "display_data",
          "data": {
            "text/plain": [
              "<Figure size 864x288 with 1 Axes>"
            ],
            "image/png": "[encoded data removed]"
          },
          "metadata": {
            "needs_background": "light"
          }
        }
      ]
    },
    {
      "cell_type": "markdown",
      "source": [
        "## Prepare Data\n",
        "---"
      ],
      "metadata": {
        "id": "g_soG3w1uBg-"
      }
    },
    {
      "cell_type": "markdown",
      "metadata": {
        "id": "kQIRjnfuIfeq"
      },
      "source": [
        "### Normalize the training values so that they fall between -1 and 1 (to improve training)"
      ]
    },
    {
      "cell_type": "markdown",
      "source": [
        "The formula for normalizing data around zero is:<br>\n",
        "#### $X_{norm} = \\frac{X - \\mu} {\\sigma}$\n",
        "where $\\mu$ is the population mean, and $\\sigma$ is the population standard deviation.<br>\n",
        "\n",
        "Perform <a href='https://en.wikipedia.org/wiki/Feature_scaling'>min/max feature scaling</a> so that our values fall between -1 and 1, as this makes hyperparameters converge faster.<br>The formula for this would be:<br>\n",
        "#### $X^{\\prime} = a + \\frac{(X - X_{min}) (b - a)} {X_{max} - X_{min}}$\n",
        "where $a={-1}$ and $b=1$<br>\n",
        "\n",
        "We can use scikit-learn to do this, with <a href='https://scikit-learn.org/stable/modules/generated/sklearn.preprocessing.MinMaxScaler.html'><tt><strong>sklearn.preprocessing.MinMaxScaler()</strong></tt></a>\n",
        "\n",
        "*NOTE*: \n",
        "* Normalize the training set to avoid data leakage. \n",
        "* If we include the test set then the higher average values of the test set could become part of the signal in the training set (about <a href='test_set = input_data(test_norm,window_size)'>data leakage</a>).\n",
        "\n",
        "After using transformed data to train the model and generate predictions, we'll ```inverse_transform``` the predicted values so that we can compare them to the actual test data."
      ],
      "metadata": {
        "id": "Mu7EiSDWyE74"
      }
    },
    {
      "cell_type": "code",
      "source": [
        "y = df['S4248SM144NCEN'].values.astype(float)\n",
        "\n",
        "# Define a test size\n",
        "test_size = 36\n",
        "\n",
        "# Create train and test sets\n",
        "train_set = y[:-test_size]\n",
        "test_set = y[-test_size:]"
      ],
      "metadata": {
        "id": "dPZVebfwu15h"
      },
      "execution_count": 30,
      "outputs": []
    },
    {
      "cell_type": "code",
      "source": [
        "from sklearn.preprocessing import MinMaxScaler\n",
        "\n",
        "# Instantiate a scaler with a feature range from -1 to 1\n",
        "scaler = MinMaxScaler(feature_range=(-1, 1))\n",
        "\n",
        "# Normalize the training set\n",
        "train_norm = scaler.fit_transform(train_set.reshape(-1, 1))"
      ],
      "metadata": {
        "id": "-FPSqvL_yBUf"
      },
      "execution_count": 31,
      "outputs": []
    },
    {
      "cell_type": "markdown",
      "source": [
        "### Prepare data for LSTM"
      ],
      "metadata": {
        "id": "x_t9H2B_yRcR"
      }
    },
    {
      "cell_type": "markdown",
      "source": [
        "Create list of (seq/label) tuples from the training set. Recall that an LSTM consumes a window of samples toward the first prediction, so the size of training set will become ((```len(df)``` - ```test_size```) - ```window_size```)."
      ],
      "metadata": {
        "id": "IvDhxWiuyfgF"
      }
    },
    {
      "cell_type": "code",
      "source": [
        "# Convert train_norm from an array to a tensor\n",
        "train_norm = torch.FloatTensor(train_norm).view(-1)\n",
        "\n",
        "# Define a window size\n",
        "window_size = 36\n",
        "\n",
        "# Define function to create seq/label tuples\n",
        "def input_data(seq, ws):  # ws is the window size\n",
        "    out = []\n",
        "    L = len(seq)\n",
        "    for i in range(L-ws):\n",
        "        rs = random.randint(0,6)\n",
        "        if i+ws+rs >= len(seq):\n",
        "            rs = 0\n",
        "        window = seq[i:i+ws+rs]\n",
        "        label = seq[i+ws+rs:i+ws+rs+1]\n",
        "        out.append((window, label))\n",
        "    return out"
      ],
      "metadata": {
        "id": "FpGTLq9Dy2PC"
      },
      "execution_count": 32,
      "outputs": []
    },
    {
      "cell_type": "code",
      "source": [
        "# Apply the input_data function to train_norm\n",
        "train_data = input_data(train_norm, window_size)\n",
        "len(train_data)  # this should equal 367-36-12"
      ],
      "metadata": {
        "colab": {
          "base_uri": "https://localhost:8080/"
        },
        "id": "L6_0CHnF4ADB",
        "outputId": "7396336e-6ad2-4edd-ed64-c5d4cbc0be5b"
      },
      "execution_count": 33,
      "outputs": [
        {
          "output_type": "execute_result",
          "data": {
            "text/plain": [
              "295"
            ]
          },
          "metadata": {},
          "execution_count": 33
        }
      ]
    },
    {
      "cell_type": "code",
      "source": [
        "# Display the first seq/label tuple in the train data\n",
        "train_data[0]"
      ],
      "metadata": {
        "colab": {
          "base_uri": "https://localhost:8080/"
        },
        "id": "Ic6RaH9t1d3H",
        "outputId": "d2424337-46e4-436e-e106-96eda8480d07"
      },
      "execution_count": 34,
      "outputs": [
        {
          "output_type": "execute_result",
          "data": {
            "text/plain": [
              "(tensor([-0.9295, -0.9297, -0.8401, -0.7475, -0.8040, -0.7533, -0.7636, -0.8178,\n",
              "         -0.8196, -0.7977, -0.8009, -0.6862, -1.0000, -0.9621, -0.8140, -0.7783,\n",
              "         -0.7898, -0.7258, -0.7650, -0.7651, -0.7804, -0.8015, -0.7580, -0.6800,\n",
              "         -0.9928, -0.9430, -0.7674, -0.7974, -0.7646, -0.6782, -0.7870, -0.7220,\n",
              "         -0.7788, -0.7996, -0.7113, -0.6805, -0.9442, -0.9254]),\n",
              " tensor([-0.7961]))"
            ]
          },
          "metadata": {},
          "execution_count": 34
        }
      ]
    },
    {
      "cell_type": "markdown",
      "source": [
        "### Define model with an LSTM layer of size (1, 100)"
      ],
      "metadata": {
        "id": "kniAgQsL3Alt"
      }
    },
    {
      "cell_type": "markdown",
      "source": [
        "```torch.zeros```: Returns a tensor filled with the scalar value 0, with the shape defined by the variable argument size. Example: >>> ```torch.zeros(2, 3)``` returns ```tensor([[ 0.,  0.,  0.], [ 0.,  0.,  0.]])```."
      ],
      "metadata": {
        "id": "OvxcC5nm4RNy"
      }
    },
    {
      "cell_type": "code",
      "source": [
        "class LSTMnetwork(nn.Module):\n",
        "    def __init__(self, input_size=1, hidden_size=100, output_size=1):\n",
        "        super().__init__()\n",
        "        self.hidden_size = hidden_size\n",
        "        \n",
        "        # Add an LSTM layer:\n",
        "        self.lstm = nn.LSTM(input_size, hidden_size)\n",
        "        \n",
        "        # Add a fully-connected layer:\n",
        "        self.linear = nn.Linear(hidden_size, output_size)\n",
        "        \n",
        "        # Initialize h0 and c0:\n",
        "        self.hidden = (torch.zeros(1,1,self.hidden_size),\n",
        "                       torch.zeros(1,1,self.hidden_size))\n",
        "\n",
        "    def forward(self,seq):\n",
        "        lstm_out, self.hidden = self.lstm(\n",
        "            seq.view(len(seq),1,-1), self.hidden)\n",
        "        pred = self.linear(lstm_out.view(len(seq),-1))\n",
        "        # print('Prediction',pred)\n",
        "        return pred[-1]  # we only want the last value, label"
      ],
      "metadata": {
        "id": "GhAoLPb_3Kzx"
      },
      "execution_count": 35,
      "outputs": []
    },
    {
      "cell_type": "code",
      "source": [
        "torch.manual_seed(101)\n",
        "model = LSTMnetwork()\n",
        "\n",
        "criterion = nn.MSELoss()\n",
        "optimizer = torch.optim.Adam(model.parameters())\n",
        "\n",
        "model"
      ],
      "metadata": {
        "colab": {
          "base_uri": "https://localhost:8080/"
        },
        "id": "oLJrhNQx7e4_",
        "outputId": "29776c1d-7788-4850-821d-6a65dad3cfc7"
      },
      "execution_count": 36,
      "outputs": [
        {
          "output_type": "execute_result",
          "data": {
            "text/plain": [
              "LSTMnetwork(\n",
              "  (lstm): LSTM(1, 100)\n",
              "  (linear): Linear(in_features=100, out_features=1, bias=True)\n",
              ")"
            ]
          },
          "metadata": {},
          "execution_count": 36
        }
      ]
    },
    {
      "cell_type": "code",
      "source": [
        "def count_parameters(model):\n",
        "    # torch.numel() returns the total number of elements in the input tensor\n",
        "    # torch.requires_grad is True if gradients need to be computed for tensor\n",
        "    params = [p.numel() for p in model.parameters() if p.requires_grad]\n",
        "    print(params) \n",
        "    for item in params:\n",
        "        print(f'{item:>6}')\n",
        "    print(f'______\\n{sum(params):>6}')\n",
        "    \n",
        "count_parameters(model)"
      ],
      "metadata": {
        "colab": {
          "base_uri": "https://localhost:8080/"
        },
        "id": "h0SAeXqi7w3l",
        "outputId": "ebde0259-dfe8-4e5f-affd-f0ce712a67fc"
      },
      "execution_count": 37,
      "outputs": [
        {
          "output_type": "stream",
          "name": "stdout",
          "text": [
            "[400, 40000, 400, 400, 100, 1]\n",
            "   400\n",
            " 40000\n",
            "   400\n",
            "   400\n",
            "   100\n",
            "     1\n",
            "______\n",
            " 41301\n"
          ]
        }
      ]
    },
    {
      "cell_type": "markdown",
      "source": [
        "### Train the model"
      ],
      "metadata": {
        "id": "zen0YYnyuoOY"
      }
    },
    {
      "cell_type": "code",
      "source": [
        "epochs = 500\n",
        "\n",
        "import time\n",
        "start_time = time.time()\n",
        "\n",
        "all_losses = []\n",
        "\n",
        "for epoch in range(epochs):\n",
        "    plot_every = 1\n",
        "    \n",
        "    # extract the sequence & label from the training data\n",
        "    for seq, y_train in train_data:\n",
        "        \n",
        "        # reset the parameters and hidden states\n",
        "        optimizer.zero_grad()\n",
        "        model.hidden = (torch.zeros(1,1,model.hidden_size),\n",
        "                        torch.zeros(1,1,model.hidden_size))\n",
        "        \n",
        "        y_pred = model(seq)\n",
        "        \n",
        "        loss = criterion(y_pred, y_train)\n",
        "        loss.backward()\n",
        "        optimizer.step()\n",
        "    if epoch % plot_every == 0:\n",
        "        all_losses.append(loss.detach().numpy())\n",
        "        \n",
        "    # print training result\n",
        "    if epoch % (epochs/10) == 0: \n",
        "        print(f'Epoch: {epoch:2} Loss: {loss.item():10.8f}')\n",
        "    \n",
        "print(f'\\nDuration: {time.time() - start_time:.0f} seconds')"
      ],
      "metadata": {
        "colab": {
          "base_uri": "https://localhost:8080/"
        },
        "id": "WVr2AJ-_ADWh",
        "outputId": "98482fc2-51d6-4cea-af4f-e2ea6d0fc3dd"
      },
      "execution_count": 38,
      "outputs": [
        {
          "output_type": "stream",
          "name": "stdout",
          "text": [
            "Epoch:  0 Loss: 0.00355396\n",
            "Epoch: 50 Loss: 0.00011162\n",
            "Epoch: 100 Loss: 0.00009517\n",
            "Epoch: 150 Loss: 0.00007701\n",
            "Epoch: 200 Loss: 0.00000132\n",
            "Epoch: 250 Loss: 0.00016945\n",
            "Epoch: 300 Loss: 0.00000048\n",
            "Epoch: 350 Loss: 0.00013755\n",
            "Epoch: 400 Loss: 0.00011807\n",
            "Epoch: 450 Loss: 0.00017236\n",
            "\n",
            "Duration: 1218 seconds\n"
          ]
        }
      ]
    },
    {
      "cell_type": "code",
      "source": [
        "plt.plot(all_losses)\n",
        "plt.ylabel('Loss')\n",
        "plt.show()"
      ],
      "metadata": {
        "colab": {
          "base_uri": "https://localhost:8080/",
          "height": 265
        },
        "id": "Nob-vi_ZC7S8",
        "outputId": "78e1d299-4e00-4fb7-ee87-a7885d0fd96c"
      },
      "execution_count": 39,
      "outputs": [
        {
          "output_type": "display_data",
          "data": {
            "text/plain": [
              "<Figure size 432x288 with 1 Axes>"
            ],
            "image/png": "[encoded data removed]"
          },
          "metadata": {
            "needs_background": "light"
          }
        }
      ]
    },
    {
      "cell_type": "markdown",
      "source": [
        "### Predict into a period that matches the test set"
      ],
      "metadata": {
        "id": "V4cv0ADPurKF"
      }
    },
    {
      "cell_type": "markdown",
      "source": [
        "#### Predict testing dataset"
      ],
      "metadata": {
        "id": "JU8ZfS6QBndr"
      }
    },
    {
      "cell_type": "code",
      "source": [
        "future = 36\n",
        "\n",
        "# Add the last window of training values to the list of predictions\n",
        "preds = train_norm[-window_size:].tolist()\n",
        "\n",
        "# Set the model to evaluation mode\n",
        "model.eval()\n",
        "\n",
        "for i in range(future):\n",
        "    seq = torch.FloatTensor(preds[-window_size:])\n",
        "    with torch.no_grad():\n",
        "        model.hidden = (torch.zeros(1,1,model.hidden_size),\n",
        "                        torch.zeros(1,1,model.hidden_size))\n",
        "        preds.append(model(seq).item())\n",
        "\n",
        "# Display predicted values\n",
        "preds[window_size:]    # equivalent to preds[-future:]"
      ],
      "metadata": {
        "colab": {
          "base_uri": "https://localhost:8080/"
        },
        "id": "9JuJ1j_cANNm",
        "outputId": "cedf781c-bf6d-4aa4-d1e8-c41258686b84"
      },
      "execution_count": 40,
      "outputs": [
        {
          "output_type": "execute_result",
          "data": {
            "text/plain": [
              "[0.6554811000823975,\n",
              " 0.6298389434814453,\n",
              " 0.785607635974884,\n",
              " 0.7940285205841064,\n",
              " 1.1225321292877197,\n",
              " 0.2641045153141022,\n",
              " 0.42827969789505005,\n",
              " 0.6766275763511658,\n",
              " 0.7011831402778625,\n",
              " 0.8681002855300903,\n",
              " 0.8965597748756409,\n",
              " 0.7258642315864563,\n",
              " 0.6927374601364136,\n",
              " 0.6451517343521118,\n",
              " 0.7705912590026855,\n",
              " 0.8336778283119202,\n",
              " 1.0637000799179077,\n",
              " 0.25677719712257385,\n",
              " 0.40557509660720825,\n",
              " 0.6271795630455017,\n",
              " 0.6884797811508179,\n",
              " 0.8835462927818298,\n",
              " 0.8428463339805603,\n",
              " 0.7128686904907227,\n",
              " 0.6735759973526001,\n",
              " 0.623356282711029,\n",
              " 0.7781744599342346,\n",
              " 0.8318352699279785,\n",
              " 0.9923557639122009,\n",
              " 0.26185598969459534,\n",
              " 0.44905486702919006,\n",
              " 0.6331037282943726,\n",
              " 0.7188588976860046,\n",
              " 0.8941162824630737,\n",
              " 0.7777568101882935,\n",
              " 0.7033201456069946]"
            ]
          },
          "metadata": {},
          "execution_count": 40
        }
      ]
    },
    {
      "cell_type": "markdown",
      "source": [
        "#### Invert the prediction to normalization using ```inverse_transform```"
      ],
      "metadata": {
        "id": "PfRMRsUxBFjE"
      }
    },
    {
      "cell_type": "code",
      "source": [
        "true_predictions = scaler.inverse_transform(np.array(preds[window_size:]).reshape(-1, 1))\n",
        "true_predictions"
      ],
      "metadata": {
        "colab": {
          "base_uri": "https://localhost:8080/"
        },
        "id": "QYRknK5LBl7G",
        "outputId": "0416e4b8-4b18-4fc5-bceb-5eef1e619f31"
      },
      "execution_count": 41,
      "outputs": [
        {
          "output_type": "execute_result",
          "data": {
            "text/plain": [
              "array([[13082.25349915],\n",
              "       [12926.56714535],\n",
              "       [13872.31676182],\n",
              "       [13923.44416273],\n",
              "       [15917.95382297],\n",
              "       [10706.01056473],\n",
              "       [11702.80018577],\n",
              "       [13210.64432982],\n",
              "       [13359.7334362 ],\n",
              "       [14373.1708836 ],\n",
              "       [14545.96267316],\n",
              "       [13509.58468208],\n",
              "       [13308.45548922],\n",
              "       [13019.53875512],\n",
              "       [13781.14482903],\n",
              "       [14164.1749346 ],\n",
              "       [15560.75503522],\n",
              "       [10661.52275233],\n",
              "       [11564.94919905],\n",
              "       [12910.42071703],\n",
              "       [13282.60499126],\n",
              "       [14466.95131662],\n",
              "       [14219.84151676],\n",
              "       [13430.68225431],\n",
              "       [13192.11666793],\n",
              "       [12887.20767048],\n",
              "       [13827.18623349],\n",
              "       [14152.98784137],\n",
              "       [15127.58802059],\n",
              "       [10692.35864143],\n",
              "       [11828.93662517],\n",
              "       [12946.38928634],\n",
              "       [13467.0517973 ],\n",
              "       [14531.12700897],\n",
              "       [13824.65047306],\n",
              "       [13372.70826405]])"
            ]
          },
          "metadata": {},
          "execution_count": 41
        }
      ]
    },
    {
      "cell_type": "code",
      "source": [
        "# Real value from testing\n",
        "df['S4248SM144NCEN'][-36:]"
      ],
      "metadata": {
        "colab": {
          "base_uri": "https://localhost:8080/"
        },
        "id": "ZqlYiG82B9zf",
        "outputId": "1920ad55-daa3-4498-a5b9-25abd33544b6"
      },
      "execution_count": 42,
      "outputs": [
        {
          "output_type": "execute_result",
          "data": {
            "text/plain": [
              "DATE\n",
              "2019-08-01    14058\n",
              "2019-09-01    12912\n",
              "2019-10-01    14389\n",
              "2019-11-01    13652\n",
              "2019-12-01    16158\n",
              "2020-01-01    10580\n",
              "2020-02-01    11267\n",
              "2020-03-01    13381\n",
              "2020-04-01    12232\n",
              "2020-05-01    13997\n",
              "2020-06-01    16112\n",
              "2020-07-01    15670\n",
              "2020-08-01    15281\n",
              "2020-09-01    15506\n",
              "2020-10-01    16188\n",
              "2020-11-01    14946\n",
              "2020-12-01    16335\n",
              "2021-01-01    11358\n",
              "2021-02-01    12369\n",
              "2021-03-01    15333\n",
              "2021-04-01    15585\n",
              "2021-05-01    15455\n",
              "2021-06-01    17776\n",
              "2021-07-01    15692\n",
              "2021-08-01    16104\n",
              "2021-09-01    15824\n",
              "2021-10-01    15613\n",
              "2021-11-01    16896\n",
              "2021-12-01    18139\n",
              "2022-01-01    11926\n",
              "2022-02-01    13333\n",
              "2022-03-01    16165\n",
              "2022-04-01    15584\n",
              "2022-05-01    16600\n",
              "2022-06-01    17700\n",
              "2022-07-01    15112\n",
              "Name: S4248SM144NCEN, dtype: int64"
            ]
          },
          "metadata": {},
          "execution_count": 42
        }
      ]
    },
    {
      "cell_type": "code",
      "source": [
        "from sklearn.metrics import mean_absolute_error, mean_squared_error, r2_score\n",
        "\n",
        "mae = mean_absolute_error(test_set, true_predictions)\n",
        "mse = mean_squared_error(test_set, true_predictions)\n",
        "rmse = np.sqrt(mse)  \n",
        "r2 = r2_score(test_set, true_predictions)\n",
        "\n",
        "print(\"MAE:\",mae)\n",
        "print(\"MSE:\", mse)\n",
        "print(\"RMSE:\", rmse)\n",
        "print(\"R-Squared:\", r2)"
      ],
      "metadata": {
        "colab": {
          "base_uri": "https://localhost:8080/"
        },
        "id": "D0FWmwozFqw4",
        "outputId": "e2c0b342-9a7d-40b2-81c5-5cfb889b37a9"
      },
      "execution_count": 43,
      "outputs": [
        {
          "output_type": "stream",
          "name": "stdout",
          "text": [
            "MAE: 1627.212785795331\n",
            "MSE: 3779653.790640366\n",
            "RMSE: 1944.1331720436144\n",
            "R-Squared: -0.074223531280317\n"
          ]
        }
      ]
    },
    {
      "cell_type": "markdown",
      "source": [
        "### Plot the results"
      ],
      "metadata": {
        "id": "UiVlxVdfCK2Z"
      }
    },
    {
      "cell_type": "markdown",
      "source": [
        "Predicted values do not contain a datetime index -> create a range of dates using NumPy that are spaced one month apart using ```dtype='datetime64[M]'```, and then store them with day values to match dataset with ```.astype('datetime64[D]')```."
      ],
      "metadata": {
        "id": "yen7LdW5COE0"
      }
    },
    {
      "cell_type": "code",
      "source": [
        "# Remember that the stop date has to be later than the last predicted value.\n",
        "x = np.arange('2019-08-01', '2022-08-01', dtype='datetime64[M]').astype('datetime64[D]')\n",
        "x"
      ],
      "metadata": {
        "colab": {
          "base_uri": "https://localhost:8080/"
        },
        "id": "kGr1qJs9CMsB",
        "outputId": "74dec7be-ccaf-44d5-9366-e00e23196245"
      },
      "execution_count": 44,
      "outputs": [
        {
          "output_type": "execute_result",
          "data": {
            "text/plain": [
              "array(['2019-08-01', '2019-09-01', '2019-10-01', '2019-11-01',\n",
              "       '2019-12-01', '2020-01-01', '2020-02-01', '2020-03-01',\n",
              "       '2020-04-01', '2020-05-01', '2020-06-01', '2020-07-01',\n",
              "       '2020-08-01', '2020-09-01', '2020-10-01', '2020-11-01',\n",
              "       '2020-12-01', '2021-01-01', '2021-02-01', '2021-03-01',\n",
              "       '2021-04-01', '2021-05-01', '2021-06-01', '2021-07-01',\n",
              "       '2021-08-01', '2021-09-01', '2021-10-01', '2021-11-01',\n",
              "       '2021-12-01', '2022-01-01', '2022-02-01', '2022-03-01',\n",
              "       '2022-04-01', '2022-05-01', '2022-06-01', '2022-07-01'],\n",
              "      dtype='datetime64[D]')"
            ]
          },
          "metadata": {},
          "execution_count": 44
        }
      ]
    },
    {
      "cell_type": "code",
      "source": [
        "plt.figure(figsize=(12,4))\n",
        "plt.title('Beer, Wine, and Alcohol Sales')\n",
        "plt.ylabel('Sales (millions of dollars)')\n",
        "plt.grid(True)\n",
        "plt.autoscale(axis='x',tight=True)\n",
        "plt.plot(df['S4248SM144NCEN'])\n",
        "plt.plot(x,true_predictions)\n",
        "plt.show()"
      ],
      "metadata": {
        "colab": {
          "base_uri": "https://localhost:8080/",
          "height": 281
        },
        "id": "hqcChcnYC-G4",
        "outputId": "a8289013-fca6-4400-b189-002fbe850d4e"
      },
      "execution_count": 45,
      "outputs": [
        {
          "output_type": "display_data",
          "data": {
            "text/plain": [
              "<Figure size 864x288 with 1 Axes>"
            ],
            "image/png": "[encoded data removed]"
          },
          "metadata": {
            "needs_background": "light"
          }
        }
      ]
    },
    {
      "cell_type": "code",
      "source": [
        "# Plot the end of the graph\n",
        "fig = plt.figure(figsize=(12,4))\n",
        "plt.title('Beer, Wine, and Alcohol Sales')\n",
        "plt.ylabel('Sales (millions of dollars)')\n",
        "plt.grid(True)\n",
        "plt.autoscale(axis='x',tight=True)\n",
        "fig.autofmt_xdate()\n",
        "\n",
        "# Select the end of the graph with slice notation:\n",
        "plt.plot(df['S4248SM144NCEN']['2017-07-01':])\n",
        "plt.plot(x,true_predictions)\n",
        "plt.show()"
      ],
      "metadata": {
        "colab": {
          "base_uri": "https://localhost:8080/",
          "height": 271
        },
        "id": "dRXvOOCODKBV",
        "outputId": "f9af235d-1ba7-4b73-af72-882d9bba9836"
      },
      "execution_count": 46,
      "outputs": [
        {
          "output_type": "display_data",
          "data": {
            "text/plain": [
              "<Figure size 864x288 with 1 Axes>"
            ],
            "image/png": "[encoded data removed]"
          },
          "metadata": {
            "needs_background": "light"
          }
        }
      ]
    },
    {
      "cell_type": "markdown",
      "source": [
        "The prediction is close to the actual data. In particular, the prediction keeps the correct pattern of the dataset, in which the trend is unstable during the year but repeated each year."
      ],
      "metadata": {
        "id": "FkOVDjnvw_TJ"
      }
    },
    {
      "cell_type": "markdown",
      "source": [
        "### Forecast into an unknown future."
      ],
      "metadata": {
        "id": "JITcC8NQuvBX"
      }
    },
    {
      "cell_type": "markdown",
      "source": [
        "Train the model with the whole data."
      ],
      "metadata": {
        "id": "MAKrkp1zEKRw"
      }
    },
    {
      "cell_type": "code",
      "source": [
        "epochs = 100\n",
        "\n",
        "# set model to back to training mode\n",
        "model.train()\n",
        "\n",
        "# feature scale the entire dataset\n",
        "y_norm = scaler.fit_transform(y.reshape(-1, 1))\n",
        "y_norm = torch.FloatTensor(y_norm).view(-1)\n",
        "all_data = input_data(y_norm,window_size)\n",
        "\n",
        "import time\n",
        "start_time = time.time()\n",
        "\n",
        "for epoch in range(epochs):\n",
        "    \n",
        "    # train on the full set of sequences\n",
        "    for seq, y_train in all_data:  \n",
        "        \n",
        "        # reset the parameters and hidden states\n",
        "        optimizer.zero_grad()\n",
        "        model.hidden = (torch.zeros(1,1,model.hidden_size),\n",
        "                        torch.zeros(1,1,model.hidden_size))\n",
        "        \n",
        "        y_pred = model(seq)\n",
        "        \n",
        "        loss = criterion(y_pred, y_train)\n",
        "        loss.backward()\n",
        "        optimizer.step()\n",
        "        \n",
        "    # print training result\n",
        "    print(f'Epoch: {epoch+1:2} Loss: {loss.item():10.8f}')\n",
        "    \n",
        "print(f'\\nDuration: {time.time() - start_time:.0f} seconds')"
      ],
      "metadata": {
        "colab": {
          "base_uri": "https://localhost:8080/"
        },
        "id": "5Bhch8D7rUYJ",
        "outputId": "b6ab6d79-8a3a-4cca-b4f5-567560d1d324"
      },
      "execution_count": 47,
      "outputs": [
        {
          "output_type": "stream",
          "name": "stdout",
          "text": [
            "Epoch:  1 Loss: 0.00482367\n",
            "Epoch:  2 Loss: 0.00700570\n",
            "Epoch:  3 Loss: 0.00120227\n",
            "Epoch:  4 Loss: 0.00403171\n",
            "Epoch:  5 Loss: 0.00015955\n",
            "Epoch:  6 Loss: 0.00565592\n",
            "Epoch:  7 Loss: 0.00000560\n",
            "Epoch:  8 Loss: 0.00585993\n",
            "Epoch:  9 Loss: 0.00012768\n",
            "Epoch: 10 Loss: 0.00014421\n",
            "Epoch: 11 Loss: 0.00002574\n",
            "Epoch: 12 Loss: 0.00002083\n",
            "Epoch: 13 Loss: 0.00017257\n",
            "Epoch: 14 Loss: 0.00012468\n",
            "Epoch: 15 Loss: 0.00003457\n",
            "Epoch: 16 Loss: 0.00068939\n",
            "Epoch: 17 Loss: 0.00080535\n",
            "Epoch: 18 Loss: 0.00012574\n",
            "Epoch: 19 Loss: 0.00245206\n",
            "Epoch: 20 Loss: 0.00000900\n",
            "Epoch: 21 Loss: 0.01622506\n",
            "Epoch: 22 Loss: 0.00007550\n",
            "Epoch: 23 Loss: 0.00045869\n",
            "Epoch: 24 Loss: 0.00040301\n",
            "Epoch: 25 Loss: 0.00008982\n",
            "Epoch: 26 Loss: 0.00048529\n",
            "Epoch: 27 Loss: 0.00048777\n",
            "Epoch: 28 Loss: 0.00001174\n",
            "Epoch: 29 Loss: 0.00039381\n",
            "Epoch: 30 Loss: 0.00012623\n",
            "Epoch: 31 Loss: 0.00003052\n",
            "Epoch: 32 Loss: 0.00004680\n",
            "Epoch: 33 Loss: 0.00043645\n",
            "Epoch: 34 Loss: 0.00069843\n",
            "Epoch: 35 Loss: 0.00052049\n",
            "Epoch: 36 Loss: 0.00027297\n",
            "Epoch: 37 Loss: 0.00008675\n",
            "Epoch: 38 Loss: 0.00163546\n",
            "Epoch: 39 Loss: 0.00245573\n",
            "Epoch: 40 Loss: 0.00012467\n",
            "Epoch: 41 Loss: 0.00013043\n",
            "Epoch: 42 Loss: 0.00001196\n",
            "Epoch: 43 Loss: 0.00010487\n",
            "Epoch: 44 Loss: 0.00075130\n",
            "Epoch: 45 Loss: 0.00024631\n",
            "Epoch: 46 Loss: 0.00001020\n",
            "Epoch: 47 Loss: 0.00071513\n",
            "Epoch: 48 Loss: 0.00232731\n",
            "Epoch: 49 Loss: 0.00061003\n",
            "Epoch: 50 Loss: 0.00046539\n",
            "Epoch: 51 Loss: 0.00422013\n",
            "Epoch: 52 Loss: 0.00017425\n",
            "Epoch: 53 Loss: 0.00000052\n",
            "Epoch: 54 Loss: 0.00035219\n",
            "Epoch: 55 Loss: 0.00021296\n",
            "Epoch: 56 Loss: 0.00104194\n",
            "Epoch: 57 Loss: 0.00267038\n",
            "Epoch: 58 Loss: 0.00380579\n",
            "Epoch: 59 Loss: 0.00001613\n",
            "Epoch: 60 Loss: 0.00001704\n",
            "Epoch: 61 Loss: 0.00024470\n",
            "Epoch: 62 Loss: 0.00016738\n",
            "Epoch: 63 Loss: 0.00052188\n",
            "Epoch: 64 Loss: 0.00005176\n",
            "Epoch: 65 Loss: 0.00137858\n",
            "Epoch: 66 Loss: 0.00008245\n",
            "Epoch: 67 Loss: 0.00070754\n",
            "Epoch: 68 Loss: 0.00126945\n",
            "Epoch: 69 Loss: 0.00038758\n",
            "Epoch: 70 Loss: 0.00024898\n",
            "Epoch: 71 Loss: 0.00017846\n",
            "Epoch: 72 Loss: 0.00191393\n",
            "Epoch: 73 Loss: 0.00088239\n",
            "Epoch: 74 Loss: 0.00006761\n",
            "Epoch: 75 Loss: 0.00132403\n",
            "Epoch: 76 Loss: 0.00182581\n",
            "Epoch: 77 Loss: 0.00115645\n",
            "Epoch: 78 Loss: 0.00106823\n",
            "Epoch: 79 Loss: 0.00012355\n",
            "Epoch: 80 Loss: 0.00037406\n",
            "Epoch: 81 Loss: 0.00008555\n",
            "Epoch: 82 Loss: 0.00001347\n",
            "Epoch: 83 Loss: 0.00001058\n",
            "Epoch: 84 Loss: 0.00058380\n",
            "Epoch: 85 Loss: 0.00090269\n",
            "Epoch: 86 Loss: 0.00035803\n",
            "Epoch: 87 Loss: 0.00002799\n",
            "Epoch: 88 Loss: 0.00002957\n",
            "Epoch: 89 Loss: 0.00000300\n",
            "Epoch: 90 Loss: 0.00001343\n",
            "Epoch: 91 Loss: 0.00000174\n",
            "Epoch: 92 Loss: 0.00023469\n",
            "Epoch: 93 Loss: 0.00182904\n",
            "Epoch: 94 Loss: 0.00042224\n",
            "Epoch: 95 Loss: 0.00022639\n",
            "Epoch: 96 Loss: 0.00013971\n",
            "Epoch: 97 Loss: 0.00000101\n",
            "Epoch: 98 Loss: 0.00000912\n",
            "Epoch: 99 Loss: 0.00023773\n",
            "Epoch: 100 Loss: 0.00007346\n",
            "\n",
            "Duration: 272 seconds\n"
          ]
        }
      ]
    },
    {
      "cell_type": "code",
      "source": [
        "window_size = 12\n",
        "future = 12\n",
        "L = len(y)\n",
        "\n",
        "preds = y_norm[-window_size:].tolist()\n",
        "\n",
        "model.eval()\n",
        "for i in range(future):  \n",
        "    seq = torch.FloatTensor(preds[-window_size:])\n",
        "    with torch.no_grad():\n",
        "        # Reset the hidden parameters here!\n",
        "        model.hidden = (torch.zeros(1,1,model.hidden_size),\n",
        "                        torch.zeros(1,1,model.hidden_size))  \n",
        "        preds.append(model(seq).item())\n",
        "\n",
        "# Inverse-normalize the prediction set\n",
        "true_predictions = scaler.inverse_transform(np.array(preds).reshape(-1, 1))\n",
        "\n",
        "# PLOT THE RESULT\n",
        "# Set a data range for the predicted data.\n",
        "# Remember that the stop date has to be later than the last predicted value.\n",
        "x = np.arange('2022-08-01', '2023-08-01', dtype='datetime64[M]').astype('datetime64[D]')\n",
        "\n",
        "plt.figure(figsize=(12,4))\n",
        "plt.title('Beer, Wine, and Alcohol Sales')\n",
        "plt.ylabel('Sales (millions of dollars)')\n",
        "plt.grid(True)\n",
        "plt.autoscale(axis='x',tight=True)\n",
        "plt.plot(df['S4248SM144NCEN'])\n",
        "plt.plot(x,true_predictions[window_size:])\n",
        "plt.show()"
      ],
      "metadata": {
        "colab": {
          "base_uri": "https://localhost:8080/",
          "height": 281
        },
        "id": "knJRy3Y6Dsx4",
        "outputId": "33a05c5c-2247-4b1b-baee-4fcb749f0655"
      },
      "execution_count": 48,
      "outputs": [
        {
          "output_type": "display_data",
          "data": {
            "text/plain": [
              "<Figure size 864x288 with 1 Axes>"
            ],
            "image/png": "[encoded data removed]"
          },
          "metadata": {
            "needs_background": "light"
          }
        }
      ]
    },
    {
      "cell_type": "code",
      "source": [
        "fig = plt.figure(figsize=(12,4))\n",
        "plt.title('Beer, Wine, and Alcohol Sales')\n",
        "plt.ylabel('Sales (millions of dollars)')\n",
        "plt.grid(True)\n",
        "plt.autoscale(axis='x',tight=True)\n",
        "fig.autofmt_xdate()\n",
        "plt.plot(df['S4248SM144NCEN']['2020-07-01':])\n",
        "plt.plot(x,true_predictions[window_size:])\n",
        "plt.show()"
      ],
      "metadata": {
        "colab": {
          "base_uri": "https://localhost:8080/",
          "height": 279
        },
        "id": "Ms8chie-Eeuh",
        "outputId": "2a12917d-deb8-4c84-936c-4ab043fee1c3"
      },
      "execution_count": 49,
      "outputs": [
        {
          "output_type": "display_data",
          "data": {
            "text/plain": [
              "<Figure size 864x288 with 1 Axes>"
            ],
            "image/png": "[encoded data removed]"
          },
          "metadata": {
            "needs_background": "light"
          }
        }
      ]
    },
    {
      "cell_type": "markdown",
      "source": [
        "### Bonus"
      ],
      "metadata": {
        "id": "wJJC8EaYFGsl"
      }
    },
    {
      "cell_type": "code",
      "execution_count": 50,
      "metadata": {
        "id": "Au7bTG-OIfex"
      },
      "outputs": [],
      "source": [
        "# Load dependencies\n",
        "from sklearn.preprocessing import MinMaxScaler\n",
        "\n",
        "# Instantiate a scaler\n",
        "\"\"\"\n",
        "This has to be done outside the function definition so that\n",
        "we can inverse_transform the prediction set later on.\n",
        "\"\"\"\n",
        "scaler = MinMaxScaler(feature_range=(-1, 1))\n",
        "\n",
        "# Extract values from the source .csv file\n",
        "df = pd.read_csv(\"/content/drive/MyDrive/Logistic Regression/Alcohol_Sales.csv\", index_col=0, parse_dates=True)\n",
        "y = df['S4248SM144NCEN'].values.astype(float)\n",
        "\n",
        "# Define a test size\n",
        "test_size = 12\n",
        "\n",
        "# Create the training set of values\n",
        "train_set = y[:-test_size]"
      ]
    },
    {
      "cell_type": "code",
      "execution_count": 51,
      "metadata": {
        "id": "UzxcRl8yIfex"
      },
      "outputs": [],
      "source": [
        "# DEFINE A FUNCTION:\n",
        "def create_train_data(seq, ws=12): #can be changed to 36\n",
        "    \"\"\"Takes in a training sequence and window size (ws) of\n",
        "       default size 12, returns a tensor of (seq/label) tuples\"\"\"\n",
        "    seq_norm = scaler.fit_transform(seq.reshape(-1, 1))    \n",
        "    seq_norm = torch.FloatTensor(seq_norm).view(-1)\n",
        "\n",
        "    out = []\n",
        "    L = len(seq_norm)\n",
        "    for i in range(L-ws):\n",
        "        window = seq_norm[i:i+ws]\n",
        "        label = seq_norm[i+ws:i+ws+1]\n",
        "        out.append((window,label))\n",
        "    return out"
      ]
    },
    {
      "cell_type": "code",
      "execution_count": 52,
      "metadata": {
        "colab": {
          "base_uri": "https://localhost:8080/"
        },
        "id": "KDXh-2lYIfex",
        "outputId": "a07a90b6-b618-4d4f-cf6b-455a5b709acd"
      },
      "outputs": [
        {
          "output_type": "execute_result",
          "data": {
            "text/plain": [
              "343"
            ]
          },
          "metadata": {},
          "execution_count": 52
        }
      ],
      "source": [
        "# Apply the function to train_set\n",
        "train_data = create_train_data(train_set,12)\n",
        "len(train_data)  # this should equal 367-12-12"
      ]
    },
    {
      "cell_type": "code",
      "execution_count": 53,
      "metadata": {
        "colab": {
          "base_uri": "https://localhost:8080/"
        },
        "id": "IqSuWKRRIfey",
        "outputId": "b2ad8e1d-d8ec-4d67-bde8-ce566ad5f22f"
      },
      "outputs": [
        {
          "output_type": "execute_result",
          "data": {
            "text/plain": [
              "(tensor([-0.9419, -0.9421, -0.8683, -0.7921, -0.8386, -0.7968, -0.8054, -0.8500,\n",
              "         -0.8515, -0.8334, -0.8360, -0.7416]), tensor([-1.]))"
            ]
          },
          "metadata": {},
          "execution_count": 53
        }
      ],
      "source": [
        "train_data[0]"
      ]
    },
    {
      "cell_type": "code",
      "execution_count": 54,
      "metadata": {
        "colab": {
          "base_uri": "https://localhost:8080/"
        },
        "id": "buxiopk8Ifey",
        "outputId": "d0eceab1-76eb-4ddb-b171-8a20004ddda3"
      },
      "outputs": [
        {
          "output_type": "stream",
          "name": "stdout",
          "text": [
            "Help on function create_train_data in module __main__:\n",
            "\n",
            "create_train_data(seq, ws=12)\n",
            "    Takes in a training sequence and window size (ws) of\n",
            "    default size 12, returns a tensor of (seq/label) tuples\n",
            "\n"
          ]
        }
      ],
      "source": [
        "help(create_train_data)"
      ]
    }
  ]
}